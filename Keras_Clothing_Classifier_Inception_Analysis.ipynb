{
 "cells": [
  {
   "cell_type": "code",
   "execution_count": 17,
   "metadata": {},
   "outputs": [],
   "source": [
    "from clothing_classifier import get_clothing_vector_model, load_model\n",
    "from clothing_classifier import get_classier_prediction, get_clothes_labels\n",
    "from sklearn.metrics import confusion_matrix "
   ]
  },
  {
   "cell_type": "code",
   "execution_count": 2,
   "metadata": {},
   "outputs": [
    {
     "name": "stdout",
     "output_type": "stream",
     "text": [
      "Loaded model from disk\n"
     ]
    }
   ],
   "source": [
    "clothing_classifier = load_model()"
   ]
  },
  {
   "cell_type": "code",
   "execution_count": 24,
   "metadata": {
    "collapsed": true
   },
   "outputs": [],
   "source": [
    "def get_predicted_results():\n",
    "    clothing_labels = get_clothes_labels()\n",
    "    val_dir = 'data-all/validation/'\n",
    "    y_true = []\n",
    "    y_predicted = []\n",
    "    for category in clothing_labels:\n",
    "        img_dir = val_dir + category\n",
    "        print('Processing ', img_dir)\n",
    "        category_image_files = os.listdir(img_dir)\n",
    "        for img_file in category_image_files:\n",
    "            try:\n",
    "                filename = img_dir + '/' + img_file\n",
    "                predicted_category = get_classier_prediction(clothing_classifier, filename)[0][0]\n",
    "                y_true.append(category)\n",
    "                y_predicted.append(predicted_category)\n",
    "            except:\n",
    "                print('error: ', img_file)\n",
    "    return y_true, y_predicted"
   ]
  },
  {
   "cell_type": "code",
   "execution_count": 25,
   "metadata": {},
   "outputs": [
    {
     "name": "stdout",
     "output_type": "stream",
     "text": [
      "Processing  data-all/validation/dresses\n",
      "Processing  data-all/validation/handbags\n",
      "Processing  data-all/validation/hats\n",
      "error:  664796816.jpg\n",
      "Processing  data-all/validation/jackets\n",
      "Processing  data-all/validation/jeans\n",
      "Processing  data-all/validation/jewelry\n",
      "Processing  data-all/validation/shorts\n",
      "Processing  data-all/validation/skirts\n",
      "Processing  data-all/validation/sunglasses\n",
      "Processing  data-all/validation/sweaters\n",
      "Processing  data-all/validation/sweatshirts\n",
      "Processing  data-all/validation/womens-outerwear\n",
      "Processing  data-all/validation/womens-pants\n",
      "error:  .DS_Store\n",
      "Processing  data-all/validation/womens-shoes\n",
      "Processing  data-all/validation/womens-tops\n"
     ]
    }
   ],
   "source": [
    "val_true, val_predicted = get_predicted_results()"
   ]
  },
  {
   "cell_type": "code",
   "execution_count": 26,
   "metadata": {},
   "outputs": [
    {
     "data": {
      "text/plain": [
       "array([[844,   0,   1,   8,   0,   1,   6,  16,   0,  25,   2,  23,  17,\n",
       "          0,  57],\n",
       "       [  4, 979,   4,   2,   0,   4,   1,   1,   0,   2,   0,   0,   1,\n",
       "          1,   1],\n",
       "       [  1,   8, 976,   0,   0,   2,   0,   2,   1,   1,   1,   0,   0,\n",
       "          4,   3],\n",
       "       [  2,   0,   2, 698,   1,   0,   1,   2,   0, 109,  44, 100,   2,\n",
       "          1,  38],\n",
       "       [  0,   0,   0,   2, 922,   0,   1,   0,   0,   0,   0,   1,  72,\n",
       "          0,   2],\n",
       "       [  1,  33,   8,   0,   0, 937,   1,   0,  11,   0,   0,   0,   0,\n",
       "          4,   5],\n",
       "       [ 16,   5,   1,   2,   6,   0, 898,  22,   0,   9,   2,   1,  16,\n",
       "          0,  22],\n",
       "       [ 12,   4,   4,   1,   0,   0,  13, 919,   0,  11,   0,   2,  18,\n",
       "          1,  15],\n",
       "       [  0,   2,   3,   0,   0,  16,   1,   0, 970,   1,   1,   0,   3,\n",
       "          1,   2],\n",
       "       [  4,   0,   1,   5,   3,   1,   2,   2,   0, 855,  58,  10,   1,\n",
       "          0,  58],\n",
       "       [  4,   2,   1,  17,   0,   0,   2,   1,   1, 167, 730,   3,   1,\n",
       "          0,  71],\n",
       "       [  6,   0,   2,  54,   0,   0,   0,   0,   0,  32,   7, 883,   0,\n",
       "          0,  16],\n",
       "       [ 11,   0,   0,   0,  49,   0,   3,  11,   0,   3,   0,   2, 912,\n",
       "          2,   7],\n",
       "       [  0,   3,   1,   0,   1,   0,   2,   1,   0,   0,   0,   0,   0,\n",
       "        992,   0],\n",
       "       [  9,   5,   2,   9,   2,   1,   9,   3,   1, 102,  16,   3,   5,\n",
       "          1, 832]])"
      ]
     },
     "execution_count": 26,
     "metadata": {},
     "output_type": "execute_result"
    }
   ],
   "source": [
    "confusion_matrix(val_true, val_predicted, labels=get_clothes_labels())"
   ]
  },
  {
   "cell_type": "code",
   "execution_count": null,
   "metadata": {
    "collapsed": true
   },
   "outputs": [],
   "source": []
  }
 ],
 "metadata": {
  "kernelspec": {
   "display_name": "Python 3",
   "language": "python",
   "name": "python3"
  },
  "language_info": {
   "codemirror_mode": {
    "name": "ipython",
    "version": 3
   },
   "file_extension": ".py",
   "mimetype": "text/x-python",
   "name": "python",
   "nbconvert_exporter": "python",
   "pygments_lexer": "ipython3",
   "version": "3.6.1"
  }
 },
 "nbformat": 4,
 "nbformat_minor": 2
}
