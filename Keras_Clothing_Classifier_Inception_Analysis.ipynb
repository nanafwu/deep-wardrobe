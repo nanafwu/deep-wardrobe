{
 "cells": [
  {
   "cell_type": "code",
   "execution_count": 34,
   "metadata": {},
   "outputs": [],
   "source": [
    "from clothing_classifier import get_clothing_vector_model, load_model\n",
    "from clothing_classifier import get_classier_prediction, get_clothes_labels\n",
    "from sklearn.metrics import confusion_matrix \n",
    "import numpy as np"
   ]
  },
  {
   "cell_type": "code",
   "execution_count": 2,
   "metadata": {},
   "outputs": [
    {
     "name": "stdout",
     "output_type": "stream",
     "text": [
      "Loaded model from disk\n"
     ]
    }
   ],
   "source": [
    "clothing_classifier = load_model()"
   ]
  },
  {
   "cell_type": "code",
   "execution_count": 46,
   "metadata": {
    "collapsed": true
   },
   "outputs": [],
   "source": [
    "def get_predicted_results():\n",
    "    clothing_labels = get_clothes_labels()\n",
    "    val_dir = 'data-all/validation/'\n",
    "    y_true = []\n",
    "    y_predicted = []\n",
    "    misclassified_examples = {}\n",
    "    for category in clothing_labels:\n",
    "        img_dir = val_dir + category\n",
    "        print('Processing ', img_dir)\n",
    "        category_image_files = os.listdir(img_dir)\n",
    "        for img_file in category_image_files:\n",
    "            try:\n",
    "                filename = img_dir + '/' + img_file\n",
    "                predicted_category = get_classier_prediction(clothing_classifier, filename)[0][0]\n",
    "                if predicted_category != category:\n",
    "                    curr_missclassified = misclassified_examples.get(category, {})\n",
    "                    curr_missclassified[predicted_category] = filename\n",
    "                    misclassified_examples[category] = curr_missclassified\n",
    "                y_true.append(category)\n",
    "                y_predicted.append(predicted_category)\n",
    "            except:\n",
    "                print('error: ', img_file)\n",
    "    return y_true, y_predicted, misclassified_examples"
   ]
  },
  {
   "cell_type": "code",
   "execution_count": 48,
   "metadata": {},
   "outputs": [
    {
     "name": "stdout",
     "output_type": "stream",
     "text": [
      "Processing  data-all/validation/dresses\n",
      "Processing  data-all/validation/handbags\n",
      "Processing  data-all/validation/hats\n",
      "error:  664796816.jpg\n",
      "Processing  data-all/validation/jackets\n",
      "Processing  data-all/validation/jeans\n",
      "Processing  data-all/validation/jewelry\n",
      "Processing  data-all/validation/shorts\n",
      "Processing  data-all/validation/skirts\n",
      "Processing  data-all/validation/sunglasses\n",
      "Processing  data-all/validation/sweaters\n",
      "Processing  data-all/validation/sweatshirts\n",
      "Processing  data-all/validation/womens-outerwear\n",
      "Processing  data-all/validation/womens-pants\n",
      "error:  .DS_Store\n",
      "Processing  data-all/validation/womens-shoes\n",
      "Processing  data-all/validation/womens-tops\n"
     ]
    }
   ],
   "source": [
    "val_true, val_predicted, misclassified_images = get_predicted_results()"
   ]
  },
  {
   "cell_type": "code",
   "execution_count": 50,
   "metadata": {},
   "outputs": [
    {
     "data": {
      "text/plain": [
       "array([[844,   0,   1,   8,   0,   1,   6,  16,   0,  25,   2,  23,  17,\n",
       "          0,  57],\n",
       "       [  4, 979,   4,   2,   0,   4,   1,   1,   0,   2,   0,   0,   1,\n",
       "          1,   1],\n",
       "       [  1,   8, 976,   0,   0,   2,   0,   2,   1,   1,   1,   0,   0,\n",
       "          4,   3],\n",
       "       [  2,   0,   2, 698,   1,   0,   1,   2,   0, 109,  44, 100,   2,\n",
       "          1,  38],\n",
       "       [  0,   0,   0,   2, 922,   0,   1,   0,   0,   0,   0,   1,  72,\n",
       "          0,   2],\n",
       "       [  1,  33,   8,   0,   0, 937,   1,   0,  11,   0,   0,   0,   0,\n",
       "          4,   5],\n",
       "       [ 16,   5,   1,   2,   6,   0, 898,  22,   0,   9,   2,   1,  16,\n",
       "          0,  22],\n",
       "       [ 12,   4,   4,   1,   0,   0,  13, 919,   0,  11,   0,   2,  18,\n",
       "          1,  15],\n",
       "       [  0,   2,   3,   0,   0,  16,   1,   0, 970,   1,   1,   0,   3,\n",
       "          1,   2],\n",
       "       [  4,   0,   1,   5,   3,   1,   2,   2,   0, 855,  58,  10,   1,\n",
       "          0,  58],\n",
       "       [  4,   2,   1,  17,   0,   0,   2,   1,   1, 167, 730,   3,   1,\n",
       "          0,  71],\n",
       "       [  6,   0,   2,  54,   0,   0,   0,   0,   0,  32,   7, 883,   0,\n",
       "          0,  16],\n",
       "       [ 11,   0,   0,   0,  49,   0,   3,  11,   0,   3,   0,   2, 912,\n",
       "          2,   7],\n",
       "       [  0,   3,   1,   0,   1,   0,   2,   1,   0,   0,   0,   0,   0,\n",
       "        992,   0],\n",
       "       [  9,   5,   2,   9,   2,   1,   9,   3,   1, 102,  16,   3,   5,\n",
       "          1, 832]])"
      ]
     },
     "execution_count": 50,
     "metadata": {},
     "output_type": "execute_result"
    }
   ],
   "source": [
    "conf_matrix = confusion_matrix(val_true, val_predicted, labels=get_clothes_labels())\n",
    "conf_matrix"
   ]
  },
  {
   "cell_type": "code",
   "execution_count": 51,
   "metadata": {},
   "outputs": [
    {
     "data": {
      "text/plain": [
       "[('jackets', 0.69799999999999995, 'jewelry', 0.5),\n",
       " ('sweatshirts', 0.72999999999999998, 'jewelry', 0.5),\n",
       " ('womens-tops', 0.83199999999999996, 'sunglasses', 0.80000000000000004),\n",
       " ('dresses', 0.84399999999999997, 'jeans', 0.40000000000000002),\n",
       " ('sweaters', 0.85499999999999998, 'sunglasses', 0.80000000000000004),\n",
       " ('womens-outerwear', 0.88300000000000001, 'jeans', 0.40000000000000002),\n",
       " ('shorts', 0.89800000000000002, 'sunglasses', 0.80000000000000004),\n",
       " ('womens-pants', 0.91200000000000003, 'hats', 0.20000000000000001),\n",
       " ('skirts', 0.91900000000000004, 'jewelry', 0.5),\n",
       " ('jeans', 0.92200000000000004, 'handbags', 0.10000000000000001),\n",
       " ('jewelry', 0.93700000000000006, 'jeans', 0.40000000000000002),\n",
       " ('sunglasses', 0.96999999999999997, 'jackets', 0.29999999999999999),\n",
       " ('hats', 0.97697697697697694, 'jeans', 0.40040040040040042),\n",
       " ('handbags', 0.97899999999999998, 'sunglasses', 0.80000000000000004),\n",
       " ('womens-shoes', 0.99199999999999999, 'jackets', 0.29999999999999999)]"
      ]
     },
     "execution_count": 51,
     "metadata": {},
     "output_type": "execute_result"
    }
   ],
   "source": [
    "category_accuracy = []\n",
    "for i, true_category in enumerate(get_clothes_labels()):\n",
    "    total_entries = sum(conf_matrix[i])\n",
    "    accuracy = conf_matrix[i][i] / float(total_entries)\n",
    "    top_misclassified_index = np.argsort(conf_matrix[i])[1]\n",
    "    misclassified_percent = top_misclassified_index * 100 / float(total_entries)\n",
    "    category_accuracy.append((true_category, accuracy, \n",
    "                              get_clothes_labels()[top_misclassified_index], misclassified_percent))\n",
    "\n",
    "category_accuracy = sorted(category_accuracy, key=lambda tup: tup[1]) \n",
    "category_accuracy"
   ]
  },
  {
   "cell_type": "markdown",
   "metadata": {},
   "source": [
    "array([[844,   0,   1,   8,   0,   1,   6,  16,   0,  25,   2,  23,  17,\n",
    "          0,  57],\n",
    "       [  4, 979,   4,   2,   0,   4,   1,   1,   0,   2,   0,   0,   1,\n",
    "          1,   1],\n",
    "       [  1,   8, 976,   0,   0,   2,   0,   2,   1,   1,   1,   0,   0,\n",
    "          4,   3],\n",
    "       [  2,   0,   2, 698,   1,   0,   1,   2,   0, 109,  44, 100,   2,\n",
    "          1,  38],\n",
    "       [  0,   0,   0,   2, 922,   0,   1,   0,   0,   0,   0,   1,  72,\n",
    "          0,   2],\n",
    "       [  1,  33,   8,   0,   0, 937,   1,   0,  11,   0,   0,   0,   0,\n",
    "          4,   5],\n",
    "       [ 16,   5,   1,   2,   6,   0, 898,  22,   0,   9,   2,   1,  16,\n",
    "          0,  22],\n",
    "       [ 12,   4,   4,   1,   0,   0,  13, 919,   0,  11,   0,   2,  18,\n",
    "          1,  15],\n",
    "       [  0,   2,   3,   0,   0,  16,   1,   0, 970,   1,   1,   0,   3,\n",
    "          1,   2],\n",
    "       [  4,   0,   1,   5,   3,   1,   2,   2,   0, 855,  58,  10,   1,\n",
    "          0,  58],\n",
    "       [  4,   2,   1,  17,   0,   0,   2,   1,   1, 167, 730,   3,   1,\n",
    "          0,  71],\n",
    "       [  6,   0,   2,  54,   0,   0,   0,   0,   0,  32,   7, 883,   0,\n",
    "          0,  16],\n",
    "       [ 11,   0,   0,   0,  49,   0,   3,  11,   0,   3,   0,   2, 912,\n",
    "          2,   7],\n",
    "       [  0,   3,   1,   0,   1,   0,   2,   1,   0,   0,   0,   0,   0,\n",
    "        992,   0],\n",
    "       [  9,   5,   2,   9,   2,   1,   9,   3,   1, 102,  16,   3,   5,\n",
    "          1, 832]])"
   ]
  },
  {
   "cell_type": "code",
   "execution_count": null,
   "metadata": {
    "collapsed": true
   },
   "outputs": [],
   "source": [
    "misclassified_images"
   ]
  }
 ],
 "metadata": {
  "kernelspec": {
   "display_name": "Python 3",
   "language": "python",
   "name": "python3"
  },
  "language_info": {
   "codemirror_mode": {
    "name": "ipython",
    "version": 3
   },
   "file_extension": ".py",
   "mimetype": "text/x-python",
   "name": "python",
   "nbconvert_exporter": "python",
   "pygments_lexer": "ipython3",
   "version": "3.6.1"
  }
 },
 "nbformat": 4,
 "nbformat_minor": 2
}
