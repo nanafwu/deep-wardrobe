{
 "cells": [
  {
   "cell_type": "code",
   "execution_count": 6,
   "metadata": {
    "collapsed": true
   },
   "outputs": [],
   "source": [
    "import numpy as np\n",
    "from sklearn.metrics.pairwise import cosine_similarity\n",
    "from sklearn.metrics.pairwise import euclidean_distances\n",
    "from sklearn.model_selection import train_test_split\n",
    "import csv\n",
    "from sklearn.neighbors import KDTree, NearestNeighbors\n",
    "from sklearn.ensemble import RandomForestClassifier\n",
    "import matplotlib.pyplot as plt\n",
    "import pickle\n",
    "\n",
    "%matplotlib inline"
   ]
  },
  {
   "cell_type": "markdown",
   "metadata": {
    "collapsed": true
   },
   "source": [
    "## Get Training Inputs Model"
   ]
  },
  {
   "cell_type": "code",
   "execution_count": 22,
   "metadata": {
    "collapsed": true
   },
   "outputs": [],
   "source": [
    "def map_category_to_label():\n",
    "    clothes_categories = ['dresses', 'handbags', 'hats', 'jackets', 'jeans', \n",
    "                          'jewelry', 'shorts', 'skirts', 'sunglasses', 'sweaters', \n",
    "                          'sweatshirts', 'womens-outerwear', 'womens-pants', \n",
    "                          'womens-shoes', 'womens-tops']\n",
    "    labels = range(0, len(clothes_categories))\n",
    "    return dict(zip(clothes_categories, labels)), dict(zip(labels, clothes_categories))\n",
    "\n",
    "def make_data_inputs(product_file, category_mapping, prod_feat_mapping, dropped_indexes):\n",
    "    X_product_features = []\n",
    "    y_label = []\n",
    "    print('Reading file ', product_file)\n",
    "    with open(product_file, 'r') as f:\n",
    "        for i, line in enumerate(f.readlines()[:]):\n",
    "            try:\n",
    "                l = line.split('\\t')\n",
    "                product_id = l[0].strip()\n",
    "                prod_feats = prod_feat_mapping[product_id][0]\n",
    "                prod_feats_reduced = np.delete(prod_feats, dropped_indexes)\n",
    "                product_category_text = l[2].strip()\n",
    "                product_label = category_mapping[product_category_text]\n",
    "                y_label.append(product_label)\n",
    "                X_product_features.append(prod_feats_reduced)\n",
    "            except Exception as e:\n",
    "                print(e)\n",
    "    return np.array(X_product_features), np.array(y_label)\n",
    "\n",
    "def get_product_to_features():\n",
    "    product_feats_file = 'data-outfits/outfit_product_features.tsv'\n",
    "    product_to_feats = {}\n",
    "    with open(product_feats_file, 'r') as tsvfile:\n",
    "        tsvreader = csv.reader(tsvfile, delimiter='\\t')\n",
    "        for row in tsvreader:\n",
    "            product_id = row[0]\n",
    "            feats = np.array([[float(n) for n in row[1:]]])\n",
    "            product_to_feats[product_id] = feats\n",
    "    return product_to_feats"
   ]
  },
  {
   "cell_type": "code",
   "execution_count": 23,
   "metadata": {
    "collapsed": true
   },
   "outputs": [],
   "source": [
    "rf_feature_import_file = 'rf_feat_import.dat'\n",
    "# rf_model.feature_importances_.dump(rf_feature_import_file)\n",
    "all_feat_importances = np.load(rf_feature_import_file)\n",
    "product_file_path = 'data-outfits/outfit_products.tsv'\n",
    "top_features = sorted(list(zip(range(0, 1024), all_feat_importances)), key=lambda tup: tup[1], reverse=True)\n",
    "category_to_label, label_to_category = map_category_to_label()\n",
    "prod_to_feats = get_product_to_features()"
   ]
  },
  {
   "cell_type": "code",
   "execution_count": 39,
   "metadata": {},
   "outputs": [
    {
     "name": "stdout",
     "output_type": "stream",
     "text": [
      "Reading file  data-outfits/outfit_products.tsv\n"
     ]
    }
   ],
   "source": [
    "bottom_feature_indexes = [f[0] for f in top_features[200:]]\n",
    "X, y = make_data_inputs(product_file_path, category_to_label, prod_to_feats, bottom_feature_indexes)\n",
    "X_train, X_test, y_train, y_test = train_test_split(X, y, stratify=y, test_size=0.3, random_state=5)"
   ]
  },
  {
   "cell_type": "code",
   "execution_count": 36,
   "metadata": {},
   "outputs": [
    {
     "data": {
      "text/plain": [
       "RandomForestClassifier(bootstrap=True, class_weight=None, criterion='gini',\n",
       "            max_depth=None, max_features='auto', max_leaf_nodes=None,\n",
       "            min_impurity_split=1e-07, min_samples_leaf=1,\n",
       "            min_samples_split=2, min_weight_fraction_leaf=0.0,\n",
       "            n_estimators=1000, n_jobs=1, oob_score=False,\n",
       "            random_state=None, verbose=0, warm_start=False)"
      ]
     },
     "execution_count": 36,
     "metadata": {},
     "output_type": "execute_result"
    }
   ],
   "source": [
    "rf_model = RandomForestClassifier(n_estimators=1000)\n",
    "rf_model.fit(X_train, y_train)"
   ]
  },
  {
   "cell_type": "code",
   "execution_count": 37,
   "metadata": {},
   "outputs": [
    {
     "data": {
      "text/plain": [
       "0.91117802032367334"
      ]
     },
     "execution_count": 37,
     "metadata": {},
     "output_type": "execute_result"
    }
   ],
   "source": [
    "np.mean(rf_model.predict(X_test) == y_test)"
   ]
  },
  {
   "cell_type": "code",
   "execution_count": 38,
   "metadata": {},
   "outputs": [
    {
     "data": {
      "text/plain": [
       "(300, 5314)"
      ]
     },
     "execution_count": 38,
     "metadata": {},
     "output_type": "execute_result"
    }
   ],
   "source": [
    "len(X_test[0]), len(X_test)"
   ]
  },
  {
   "cell_type": "code",
   "execution_count": 34,
   "metadata": {},
   "outputs": [
    {
     "data": {
      "text/plain": [
       "array([3, 4, 5, 6, 7, 8, 9])"
      ]
     },
     "execution_count": 34,
     "metadata": {},
     "output_type": "execute_result"
    }
   ],
   "source": [
    "a = np.array([1, 2, 3, 4, 5, 6, 7, 8, 9])\n",
    "index = [0, 1]\n",
    "new_a = np.delete(a, index)\n",
    "new_a"
   ]
  },
  {
   "cell_type": "code",
   "execution_count": null,
   "metadata": {
    "collapsed": true
   },
   "outputs": [],
   "source": []
  }
 ],
 "metadata": {
  "kernelspec": {
   "display_name": "Python 3",
   "language": "python",
   "name": "python3"
  },
  "language_info": {
   "codemirror_mode": {
    "name": "ipython",
    "version": 3
   },
   "file_extension": ".py",
   "mimetype": "text/x-python",
   "name": "python",
   "nbconvert_exporter": "python",
   "pygments_lexer": "ipython3",
   "version": "3.6.1"
  }
 },
 "nbformat": 4,
 "nbformat_minor": 2
}
