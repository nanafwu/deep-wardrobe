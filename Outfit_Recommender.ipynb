{
 "cells": [
  {
   "cell_type": "code",
   "execution_count": 12,
   "metadata": {},
   "outputs": [],
   "source": [
    "from keras import __version__\n",
    "import numpy as np\n",
    "from keras.models import model_from_json\n",
    "from keras.applications.inception_v3 import preprocess_input\n",
    "from keras.preprocessing.image import img_to_array, load_img, ImageDataGenerator"
   ]
  },
  {
   "cell_type": "code",
   "execution_count": 17,
   "metadata": {},
   "outputs": [
    {
     "name": "stdout",
     "output_type": "stream",
     "text": [
      "Loaded model from disk\n"
     ]
    }
   ],
   "source": [
    "weights_path = 'inceptionv3_clothing_classifier_first.h5'\n",
    "json_path = 'incep_filter_clothing_classifier.json'\n",
    "\n",
    "json_file = open(json_path, 'r')\n",
    "loaded_model_json = json_file.read()\n",
    "json_file.close()\n",
    "loaded_model = model_from_json(loaded_model_json)\n",
    "\n",
    "# load weights into new model\n",
    "loaded_model.load_weights(weights_path)\n",
    "print(\"Loaded model from disk\")\n",
    "\n",
    "# evaluate loaded model on test data\n",
    "# loaded_model.compile(loss='categorical_crossentropy', optimizer='rmsprop', metrics=['accuracy'])\n",
    "#score = loaded_model.evaluate(X, Y, verbose=0)\n",
    "#print(\"%s: %.2f%%\" % (loaded_model.metrics_names[1], score[1]*100))"
   ]
  },
  {
   "cell_type": "code",
   "execution_count": 30,
   "metadata": {},
   "outputs": [],
   "source": [
    "def image_preprocess(img_path):\n",
    "    image = load_img(img_path, target_size=(299, 299))\n",
    "    image = img_to_array(image)\n",
    "\n",
    "    # our input image is now represented as a NumPy array of shape\n",
    "    # (inputShape[0], inputShape[1], 3) however we need to expand the\n",
    "    # dimension by making the shape (1, inputShape[0], inputShape[1], 3)\n",
    "    # so we can pass it through thenetwork\n",
    "    image = np.expand_dims(image, axis=0)\n",
    "\n",
    "    # pre-process the image using the appropriate function based on the\n",
    "    # model that has been loaded (i.e., mean subtraction, scaling, etc.)\n",
    "    image = preprocess_input(image)\n",
    "    return image"
   ]
  },
  {
   "cell_type": "code",
   "execution_count": 44,
   "metadata": {},
   "outputs": [
    {
     "data": {
      "text/plain": [
       "[('jackets', 0.99643755),\n",
       " ('womens-pants', 0.0027413021),\n",
       " ('sweatshirts', 0.00033601059),\n",
       " ('shorts', 2.2123961e-05),\n",
       " ('womens-outerwear', 1.8147339e-05),\n",
       " ('skirtssweaters', 1.1226492e-05),\n",
       " ('womens-tops', 4.8673178e-06),\n",
       " ('dresses', 4.4831877e-06),\n",
       " ('jeans', 3.1200304e-06)]"
      ]
     },
     "execution_count": 44,
     "metadata": {},
     "output_type": "execute_result"
    }
   ],
   "source": [
    "clothes_labels = ['dresses', 'jackets', 'jeans', 'shorts', 'skirts'  \n",
    "                  'sweaters', 'sweatshirts', 'womens-outerwear',\n",
    "                  'womens-pants', 'womens-tops']\n",
    "\n",
    "def get_image_prediction(model, img_path):\n",
    "    img = image_preprocess(img_path)\n",
    "    preds = loaded_model.predict(img)[0]\n",
    "    preds_labels = list(zip(clothes_labels, preds))\n",
    "    preds_labels.sort(key=lambda p: p[1], reverse=True)\n",
    "    return preds_labels\n",
    "\n",
    "jeans_img = 'data/validation/jeans/666416190.jpg'\n",
    "jackets_img = 'data/validation/jackets/614521319.jpg'\n",
    "get_image_prediction(loaded_model, jackets_img)"
   ]
  },
  {
   "cell_type": "code",
   "execution_count": null,
   "metadata": {
    "collapsed": true
   },
   "outputs": [],
   "source": []
  },
  {
   "cell_type": "code",
   "execution_count": null,
   "metadata": {
    "collapsed": true
   },
   "outputs": [],
   "source": []
  }
 ],
 "metadata": {
  "kernelspec": {
   "display_name": "Python 3",
   "language": "python",
   "name": "python3"
  },
  "language_info": {
   "codemirror_mode": {
    "name": "ipython",
    "version": 3
   },
   "file_extension": ".py",
   "mimetype": "text/x-python",
   "name": "python",
   "nbconvert_exporter": "python",
   "pygments_lexer": "ipython3",
   "version": "3.6.1"
  }
 },
 "nbformat": 4,
 "nbformat_minor": 2
}
