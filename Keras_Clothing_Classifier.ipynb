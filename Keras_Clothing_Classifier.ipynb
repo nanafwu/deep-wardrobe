{
 "cells": [
  {
   "cell_type": "code",
   "execution_count": 1,
   "metadata": {},
   "outputs": [
    {
     "name": "stderr",
     "output_type": "stream",
     "text": [
      "Using TensorFlow backend.\n"
     ]
    }
   ],
   "source": [
    "from keras.applications.xception import Xception\n",
    "from keras.applications import imagenet_utils\n",
    "from keras.applications.inception_v3 import preprocess_input\n",
    "from keras.preprocessing.image import img_to_array, load_img, ImageDataGenerator\n",
    "from keras.models import Sequential, Model\n",
    "from keras.layers import Dropout, Flatten, Dense, Activation\n",
    "from keras import applications\n",
    "from keras import optimizers\n",
    "from keras.callbacks import ModelCheckpoint, LearningRateScheduler, TensorBoard, EarlyStopping\n",
    "import matplotlib.pyplot as plt\n",
    "import numpy as np\n",
    "\n",
    "%matplotlib inline"
   ]
  },
  {
   "cell_type": "code",
   "execution_count": 2,
   "metadata": {},
   "outputs": [
    {
     "name": "stdout",
     "output_type": "stream",
     "text": [
      "_________________________________________________________________\n",
      "Layer (type)                 Output Shape              Param #   \n",
      "=================================================================\n",
      "input_1 (InputLayer)         (None, 224, 224, 3)       0         \n",
      "_________________________________________________________________\n",
      "block1_conv1 (Conv2D)        (None, 224, 224, 64)      1792      \n",
      "_________________________________________________________________\n",
      "block1_conv2 (Conv2D)        (None, 224, 224, 64)      36928     \n",
      "_________________________________________________________________\n",
      "block1_pool (MaxPooling2D)   (None, 112, 112, 64)      0         \n",
      "_________________________________________________________________\n",
      "block2_conv1 (Conv2D)        (None, 112, 112, 128)     73856     \n",
      "_________________________________________________________________\n",
      "block2_conv2 (Conv2D)        (None, 112, 112, 128)     147584    \n",
      "_________________________________________________________________\n",
      "block2_pool (MaxPooling2D)   (None, 56, 56, 128)       0         \n",
      "_________________________________________________________________\n",
      "block3_conv1 (Conv2D)        (None, 56, 56, 256)       295168    \n",
      "_________________________________________________________________\n",
      "block3_conv2 (Conv2D)        (None, 56, 56, 256)       590080    \n",
      "_________________________________________________________________\n",
      "block3_conv3 (Conv2D)        (None, 56, 56, 256)       590080    \n",
      "_________________________________________________________________\n",
      "block3_pool (MaxPooling2D)   (None, 28, 28, 256)       0         \n",
      "_________________________________________________________________\n",
      "block4_conv1 (Conv2D)        (None, 28, 28, 512)       1180160   \n",
      "_________________________________________________________________\n",
      "block4_conv2 (Conv2D)        (None, 28, 28, 512)       2359808   \n",
      "_________________________________________________________________\n",
      "block4_conv3 (Conv2D)        (None, 28, 28, 512)       2359808   \n",
      "_________________________________________________________________\n",
      "block4_pool (MaxPooling2D)   (None, 14, 14, 512)       0         \n",
      "_________________________________________________________________\n",
      "block5_conv1 (Conv2D)        (None, 14, 14, 512)       2359808   \n",
      "_________________________________________________________________\n",
      "block5_conv2 (Conv2D)        (None, 14, 14, 512)       2359808   \n",
      "_________________________________________________________________\n",
      "block5_conv3 (Conv2D)        (None, 14, 14, 512)       2359808   \n",
      "_________________________________________________________________\n",
      "block5_pool (MaxPooling2D)   (None, 7, 7, 512)         0         \n",
      "=================================================================\n",
      "Total params: 14,714,688\n",
      "Trainable params: 0\n",
      "Non-trainable params: 14,714,688\n",
      "_________________________________________________________________\n"
     ]
    }
   ],
   "source": [
    "base_model = applications.vgg16.VGG16(weights='imagenet', include_top=False, input_shape = (224,224,3))\n",
    "for layer in base_model.layers:\n",
    "    layer.trainable = False\n",
    "base_model.summary()"
   ]
  },
  {
   "cell_type": "code",
   "execution_count": 5,
   "metadata": {
    "collapsed": true
   },
   "outputs": [],
   "source": [
    "# for layer in base_model.layers:\n",
    "#     print(layer.trainable)"
   ]
  },
  {
   "cell_type": "code",
   "execution_count": 4,
   "metadata": {},
   "outputs": [
    {
     "name": "stdout",
     "output_type": "stream",
     "text": [
      "_________________________________________________________________\n",
      "Layer (type)                 Output Shape              Param #   \n",
      "=================================================================\n",
      "input_1 (InputLayer)         (None, 224, 224, 3)       0         \n",
      "_________________________________________________________________\n",
      "block1_conv1 (Conv2D)        (None, 224, 224, 64)      1792      \n",
      "_________________________________________________________________\n",
      "block1_conv2 (Conv2D)        (None, 224, 224, 64)      36928     \n",
      "_________________________________________________________________\n",
      "block1_pool (MaxPooling2D)   (None, 112, 112, 64)      0         \n",
      "_________________________________________________________________\n",
      "block2_conv1 (Conv2D)        (None, 112, 112, 128)     73856     \n",
      "_________________________________________________________________\n",
      "block2_conv2 (Conv2D)        (None, 112, 112, 128)     147584    \n",
      "_________________________________________________________________\n",
      "block2_pool (MaxPooling2D)   (None, 56, 56, 128)       0         \n",
      "_________________________________________________________________\n",
      "block3_conv1 (Conv2D)        (None, 56, 56, 256)       295168    \n",
      "_________________________________________________________________\n",
      "block3_conv2 (Conv2D)        (None, 56, 56, 256)       590080    \n",
      "_________________________________________________________________\n",
      "block3_conv3 (Conv2D)        (None, 56, 56, 256)       590080    \n",
      "_________________________________________________________________\n",
      "block3_pool (MaxPooling2D)   (None, 28, 28, 256)       0         \n",
      "_________________________________________________________________\n",
      "block4_conv1 (Conv2D)        (None, 28, 28, 512)       1180160   \n",
      "_________________________________________________________________\n",
      "block4_conv2 (Conv2D)        (None, 28, 28, 512)       2359808   \n",
      "_________________________________________________________________\n",
      "block4_conv3 (Conv2D)        (None, 28, 28, 512)       2359808   \n",
      "_________________________________________________________________\n",
      "block4_pool (MaxPooling2D)   (None, 14, 14, 512)       0         \n",
      "_________________________________________________________________\n",
      "block5_conv1 (Conv2D)        (None, 14, 14, 512)       2359808   \n",
      "_________________________________________________________________\n",
      "block5_conv2 (Conv2D)        (None, 14, 14, 512)       2359808   \n",
      "_________________________________________________________________\n",
      "block5_conv3 (Conv2D)        (None, 14, 14, 512)       2359808   \n",
      "_________________________________________________________________\n",
      "block5_pool (MaxPooling2D)   (None, 7, 7, 512)         0         \n",
      "_________________________________________________________________\n",
      "flatten_2 (Flatten)          (None, 25088)             0         \n",
      "_________________________________________________________________\n",
      "fc1 (Dense)                  (None, 4096)              102764544 \n",
      "_________________________________________________________________\n",
      "dropout_2 (Dropout)          (None, 4096)              0         \n",
      "_________________________________________________________________\n",
      "fc2 (Dense)                  (None, 4096)              16781312  \n",
      "_________________________________________________________________\n",
      "predictions (Dense)          (None, 10)                40970     \n",
      "=================================================================\n",
      "Total params: 134,301,514\n",
      "Trainable params: 119,586,826\n",
      "Non-trainable params: 14,714,688\n",
      "_________________________________________________________________\n"
     ]
    }
   ],
   "source": [
    "x = base_model.output\n",
    "x = Flatten()(x)\n",
    "x = Dense(4096, name='fc1')(x)\n",
    "x = Dropout(0.2)(x)\n",
    "x = Dense(4096, name='fc2')(x)\n",
    "\n",
    "\n",
    "#predictions = Dense(2, activation=\"softmax\") (x)\n",
    "#predictions = Dense(1, activation=\"sigmoid\") (x)\n",
    "x = Dense(10, activation='softmax', name='predictions')(x)\n",
    "\n",
    "\n",
    "model_final = Model(inputs=base_model.input, outputs=x)\n",
    "#model_final.compile(loss=\"categorical_crossentropy\", optimizer=optimizers.sgd(lr=0.0001, momentum=0.9), metrics=[\"accuracy\"])\n",
    "model_final.compile(loss=\"categorical_crossentropy\", optimizer=optimizers.RMSprop(lr=0.00001), metrics=[\"accuracy\"])\n",
    "model_final.summary()"
   ]
  },
  {
   "cell_type": "code",
   "execution_count": 5,
   "metadata": {},
   "outputs": [
    {
     "name": "stdout",
     "output_type": "stream",
     "text": [
      "Found 5000 images belonging to 10 classes.\n",
      "Found 1000 images belonging to 10 classes.\n",
      "Epoch 1/10\n",
      "311/312 [============================>.] - ETA: 0s - loss: 1.4337 - acc: 0.5287Epoch 00000: val_acc improved from -inf to 0.53024, saving model to vgg16_clothing_classifier_1.h5\n",
      "312/312 [==============================] - 264s - loss: 1.4333 - acc: 0.5288 - val_loss: 1.4104 - val_acc: 0.5302\n",
      "Epoch 2/10\n",
      "114/312 [=========>....................] - ETA: 139s - loss: 0.9560 - acc: 0.6848"
     ]
    },
    {
     "ename": "KeyboardInterrupt",
     "evalue": "",
     "output_type": "error",
     "traceback": [
      "\u001b[0;31m---------------------------------------------------------------------------\u001b[0m",
      "\u001b[0;31mKeyboardInterrupt\u001b[0m                         Traceback (most recent call last)",
      "\u001b[0;32m<ipython-input-5-bca4bcfab487>\u001b[0m in \u001b[0;36m<module>\u001b[0;34m()\u001b[0m\n\u001b[1;32m     40\u001b[0m             \u001b[0mverbose\u001b[0m\u001b[0;34m=\u001b[0m\u001b[0;36m1\u001b[0m\u001b[0;34m,\u001b[0m\u001b[0;34m\u001b[0m\u001b[0m\n\u001b[1;32m     41\u001b[0m             \u001b[0mworkers\u001b[0m\u001b[0;34m=\u001b[0m\u001b[0;36m4\u001b[0m\u001b[0;34m,\u001b[0m\u001b[0;34m\u001b[0m\u001b[0m\n\u001b[0;32m---> 42\u001b[0;31m             callbacks = [checkpoint, early])\n\u001b[0m",
      "\u001b[0;32m/home/ubuntu/anaconda3/lib/python3.6/site-packages/keras/legacy/interfaces.py\u001b[0m in \u001b[0;36mwrapper\u001b[0;34m(*args, **kwargs)\u001b[0m\n\u001b[1;32m     85\u001b[0m                 warnings.warn('Update your `' + object_name +\n\u001b[1;32m     86\u001b[0m                               '` call to the Keras 2 API: ' + signature, stacklevel=2)\n\u001b[0;32m---> 87\u001b[0;31m             \u001b[0;32mreturn\u001b[0m \u001b[0mfunc\u001b[0m\u001b[0;34m(\u001b[0m\u001b[0;34m*\u001b[0m\u001b[0margs\u001b[0m\u001b[0;34m,\u001b[0m \u001b[0;34m**\u001b[0m\u001b[0mkwargs\u001b[0m\u001b[0;34m)\u001b[0m\u001b[0;34m\u001b[0m\u001b[0m\n\u001b[0m\u001b[1;32m     88\u001b[0m         \u001b[0mwrapper\u001b[0m\u001b[0;34m.\u001b[0m\u001b[0m_original_function\u001b[0m \u001b[0;34m=\u001b[0m \u001b[0mfunc\u001b[0m\u001b[0;34m\u001b[0m\u001b[0m\n\u001b[1;32m     89\u001b[0m         \u001b[0;32mreturn\u001b[0m \u001b[0mwrapper\u001b[0m\u001b[0;34m\u001b[0m\u001b[0m\n",
      "\u001b[0;32m/home/ubuntu/anaconda3/lib/python3.6/site-packages/keras/engine/training.py\u001b[0m in \u001b[0;36mfit_generator\u001b[0;34m(self, generator, steps_per_epoch, epochs, verbose, callbacks, validation_data, validation_steps, class_weight, max_queue_size, workers, use_multiprocessing, shuffle, initial_epoch)\u001b[0m\n\u001b[1;32m   2040\u001b[0m                     outs = self.train_on_batch(x, y,\n\u001b[1;32m   2041\u001b[0m                                                \u001b[0msample_weight\u001b[0m\u001b[0;34m=\u001b[0m\u001b[0msample_weight\u001b[0m\u001b[0;34m,\u001b[0m\u001b[0;34m\u001b[0m\u001b[0m\n\u001b[0;32m-> 2042\u001b[0;31m                                                class_weight=class_weight)\n\u001b[0m\u001b[1;32m   2043\u001b[0m \u001b[0;34m\u001b[0m\u001b[0m\n\u001b[1;32m   2044\u001b[0m                     \u001b[0;32mif\u001b[0m \u001b[0;32mnot\u001b[0m \u001b[0misinstance\u001b[0m\u001b[0;34m(\u001b[0m\u001b[0mouts\u001b[0m\u001b[0;34m,\u001b[0m \u001b[0mlist\u001b[0m\u001b[0;34m)\u001b[0m\u001b[0;34m:\u001b[0m\u001b[0;34m\u001b[0m\u001b[0m\n",
      "\u001b[0;32m/home/ubuntu/anaconda3/lib/python3.6/site-packages/keras/engine/training.py\u001b[0m in \u001b[0;36mtrain_on_batch\u001b[0;34m(self, x, y, sample_weight, class_weight)\u001b[0m\n\u001b[1;32m   1760\u001b[0m             \u001b[0mins\u001b[0m \u001b[0;34m=\u001b[0m \u001b[0mx\u001b[0m \u001b[0;34m+\u001b[0m \u001b[0my\u001b[0m \u001b[0;34m+\u001b[0m \u001b[0msample_weights\u001b[0m\u001b[0;34m\u001b[0m\u001b[0m\n\u001b[1;32m   1761\u001b[0m         \u001b[0mself\u001b[0m\u001b[0;34m.\u001b[0m\u001b[0m_make_train_function\u001b[0m\u001b[0;34m(\u001b[0m\u001b[0;34m)\u001b[0m\u001b[0;34m\u001b[0m\u001b[0m\n\u001b[0;32m-> 1762\u001b[0;31m         \u001b[0moutputs\u001b[0m \u001b[0;34m=\u001b[0m \u001b[0mself\u001b[0m\u001b[0;34m.\u001b[0m\u001b[0mtrain_function\u001b[0m\u001b[0;34m(\u001b[0m\u001b[0mins\u001b[0m\u001b[0;34m)\u001b[0m\u001b[0;34m\u001b[0m\u001b[0m\n\u001b[0m\u001b[1;32m   1763\u001b[0m         \u001b[0;32mif\u001b[0m \u001b[0mlen\u001b[0m\u001b[0;34m(\u001b[0m\u001b[0moutputs\u001b[0m\u001b[0;34m)\u001b[0m \u001b[0;34m==\u001b[0m \u001b[0;36m1\u001b[0m\u001b[0;34m:\u001b[0m\u001b[0;34m\u001b[0m\u001b[0m\n\u001b[1;32m   1764\u001b[0m             \u001b[0;32mreturn\u001b[0m \u001b[0moutputs\u001b[0m\u001b[0;34m[\u001b[0m\u001b[0;36m0\u001b[0m\u001b[0;34m]\u001b[0m\u001b[0;34m\u001b[0m\u001b[0m\n",
      "\u001b[0;32m/home/ubuntu/anaconda3/lib/python3.6/site-packages/keras/backend/tensorflow_backend.py\u001b[0m in \u001b[0;36m__call__\u001b[0;34m(self, inputs)\u001b[0m\n\u001b[1;32m   2271\u001b[0m         updated = session.run(self.outputs + [self.updates_op],\n\u001b[1;32m   2272\u001b[0m                               \u001b[0mfeed_dict\u001b[0m\u001b[0;34m=\u001b[0m\u001b[0mfeed_dict\u001b[0m\u001b[0;34m,\u001b[0m\u001b[0;34m\u001b[0m\u001b[0m\n\u001b[0;32m-> 2273\u001b[0;31m                               **self.session_kwargs)\n\u001b[0m\u001b[1;32m   2274\u001b[0m         \u001b[0;32mreturn\u001b[0m \u001b[0mupdated\u001b[0m\u001b[0;34m[\u001b[0m\u001b[0;34m:\u001b[0m\u001b[0mlen\u001b[0m\u001b[0;34m(\u001b[0m\u001b[0mself\u001b[0m\u001b[0;34m.\u001b[0m\u001b[0moutputs\u001b[0m\u001b[0;34m)\u001b[0m\u001b[0;34m]\u001b[0m\u001b[0;34m\u001b[0m\u001b[0m\n\u001b[1;32m   2275\u001b[0m \u001b[0;34m\u001b[0m\u001b[0m\n",
      "\u001b[0;32m/home/ubuntu/anaconda3/lib/python3.6/site-packages/tensorflow/python/client/session.py\u001b[0m in \u001b[0;36mrun\u001b[0;34m(self, fetches, feed_dict, options, run_metadata)\u001b[0m\n\u001b[1;32m    893\u001b[0m     \u001b[0;32mtry\u001b[0m\u001b[0;34m:\u001b[0m\u001b[0;34m\u001b[0m\u001b[0m\n\u001b[1;32m    894\u001b[0m       result = self._run(None, fetches, feed_dict, options_ptr,\n\u001b[0;32m--> 895\u001b[0;31m                          run_metadata_ptr)\n\u001b[0m\u001b[1;32m    896\u001b[0m       \u001b[0;32mif\u001b[0m \u001b[0mrun_metadata\u001b[0m\u001b[0;34m:\u001b[0m\u001b[0;34m\u001b[0m\u001b[0m\n\u001b[1;32m    897\u001b[0m         \u001b[0mproto_data\u001b[0m \u001b[0;34m=\u001b[0m \u001b[0mtf_session\u001b[0m\u001b[0;34m.\u001b[0m\u001b[0mTF_GetBuffer\u001b[0m\u001b[0;34m(\u001b[0m\u001b[0mrun_metadata_ptr\u001b[0m\u001b[0;34m)\u001b[0m\u001b[0;34m\u001b[0m\u001b[0m\n",
      "\u001b[0;32m/home/ubuntu/anaconda3/lib/python3.6/site-packages/tensorflow/python/client/session.py\u001b[0m in \u001b[0;36m_run\u001b[0;34m(self, handle, fetches, feed_dict, options, run_metadata)\u001b[0m\n\u001b[1;32m   1122\u001b[0m     \u001b[0;32mif\u001b[0m \u001b[0mfinal_fetches\u001b[0m \u001b[0;32mor\u001b[0m \u001b[0mfinal_targets\u001b[0m \u001b[0;32mor\u001b[0m \u001b[0;34m(\u001b[0m\u001b[0mhandle\u001b[0m \u001b[0;32mand\u001b[0m \u001b[0mfeed_dict_tensor\u001b[0m\u001b[0;34m)\u001b[0m\u001b[0;34m:\u001b[0m\u001b[0;34m\u001b[0m\u001b[0m\n\u001b[1;32m   1123\u001b[0m       results = self._do_run(handle, final_targets, final_fetches,\n\u001b[0;32m-> 1124\u001b[0;31m                              feed_dict_tensor, options, run_metadata)\n\u001b[0m\u001b[1;32m   1125\u001b[0m     \u001b[0;32melse\u001b[0m\u001b[0;34m:\u001b[0m\u001b[0;34m\u001b[0m\u001b[0m\n\u001b[1;32m   1126\u001b[0m       \u001b[0mresults\u001b[0m \u001b[0;34m=\u001b[0m \u001b[0;34m[\u001b[0m\u001b[0;34m]\u001b[0m\u001b[0;34m\u001b[0m\u001b[0m\n",
      "\u001b[0;32m/home/ubuntu/anaconda3/lib/python3.6/site-packages/tensorflow/python/client/session.py\u001b[0m in \u001b[0;36m_do_run\u001b[0;34m(self, handle, target_list, fetch_list, feed_dict, options, run_metadata)\u001b[0m\n\u001b[1;32m   1319\u001b[0m     \u001b[0;32mif\u001b[0m \u001b[0mhandle\u001b[0m \u001b[0;32mis\u001b[0m \u001b[0;32mNone\u001b[0m\u001b[0;34m:\u001b[0m\u001b[0;34m\u001b[0m\u001b[0m\n\u001b[1;32m   1320\u001b[0m       return self._do_call(_run_fn, self._session, feeds, fetches, targets,\n\u001b[0;32m-> 1321\u001b[0;31m                            options, run_metadata)\n\u001b[0m\u001b[1;32m   1322\u001b[0m     \u001b[0;32melse\u001b[0m\u001b[0;34m:\u001b[0m\u001b[0;34m\u001b[0m\u001b[0m\n\u001b[1;32m   1323\u001b[0m       \u001b[0;32mreturn\u001b[0m \u001b[0mself\u001b[0m\u001b[0;34m.\u001b[0m\u001b[0m_do_call\u001b[0m\u001b[0;34m(\u001b[0m\u001b[0m_prun_fn\u001b[0m\u001b[0;34m,\u001b[0m \u001b[0mself\u001b[0m\u001b[0;34m.\u001b[0m\u001b[0m_session\u001b[0m\u001b[0;34m,\u001b[0m \u001b[0mhandle\u001b[0m\u001b[0;34m,\u001b[0m \u001b[0mfeeds\u001b[0m\u001b[0;34m,\u001b[0m \u001b[0mfetches\u001b[0m\u001b[0;34m)\u001b[0m\u001b[0;34m\u001b[0m\u001b[0m\n",
      "\u001b[0;32m/home/ubuntu/anaconda3/lib/python3.6/site-packages/tensorflow/python/client/session.py\u001b[0m in \u001b[0;36m_do_call\u001b[0;34m(self, fn, *args)\u001b[0m\n\u001b[1;32m   1325\u001b[0m   \u001b[0;32mdef\u001b[0m \u001b[0m_do_call\u001b[0m\u001b[0;34m(\u001b[0m\u001b[0mself\u001b[0m\u001b[0;34m,\u001b[0m \u001b[0mfn\u001b[0m\u001b[0;34m,\u001b[0m \u001b[0;34m*\u001b[0m\u001b[0margs\u001b[0m\u001b[0;34m)\u001b[0m\u001b[0;34m:\u001b[0m\u001b[0;34m\u001b[0m\u001b[0m\n\u001b[1;32m   1326\u001b[0m     \u001b[0;32mtry\u001b[0m\u001b[0;34m:\u001b[0m\u001b[0;34m\u001b[0m\u001b[0m\n\u001b[0;32m-> 1327\u001b[0;31m       \u001b[0;32mreturn\u001b[0m \u001b[0mfn\u001b[0m\u001b[0;34m(\u001b[0m\u001b[0;34m*\u001b[0m\u001b[0margs\u001b[0m\u001b[0;34m)\u001b[0m\u001b[0;34m\u001b[0m\u001b[0m\n\u001b[0m\u001b[1;32m   1328\u001b[0m     \u001b[0;32mexcept\u001b[0m \u001b[0merrors\u001b[0m\u001b[0;34m.\u001b[0m\u001b[0mOpError\u001b[0m \u001b[0;32mas\u001b[0m \u001b[0me\u001b[0m\u001b[0;34m:\u001b[0m\u001b[0;34m\u001b[0m\u001b[0m\n\u001b[1;32m   1329\u001b[0m       \u001b[0mmessage\u001b[0m \u001b[0;34m=\u001b[0m \u001b[0mcompat\u001b[0m\u001b[0;34m.\u001b[0m\u001b[0mas_text\u001b[0m\u001b[0;34m(\u001b[0m\u001b[0me\u001b[0m\u001b[0;34m.\u001b[0m\u001b[0mmessage\u001b[0m\u001b[0;34m)\u001b[0m\u001b[0;34m\u001b[0m\u001b[0m\n",
      "\u001b[0;32m/home/ubuntu/anaconda3/lib/python3.6/site-packages/tensorflow/python/client/session.py\u001b[0m in \u001b[0;36m_run_fn\u001b[0;34m(session, feed_dict, fetch_list, target_list, options, run_metadata)\u001b[0m\n\u001b[1;32m   1304\u001b[0m           return tf_session.TF_Run(session, options,\n\u001b[1;32m   1305\u001b[0m                                    \u001b[0mfeed_dict\u001b[0m\u001b[0;34m,\u001b[0m \u001b[0mfetch_list\u001b[0m\u001b[0;34m,\u001b[0m \u001b[0mtarget_list\u001b[0m\u001b[0;34m,\u001b[0m\u001b[0;34m\u001b[0m\u001b[0m\n\u001b[0;32m-> 1306\u001b[0;31m                                    status, run_metadata)\n\u001b[0m\u001b[1;32m   1307\u001b[0m \u001b[0;34m\u001b[0m\u001b[0m\n\u001b[1;32m   1308\u001b[0m     \u001b[0;32mdef\u001b[0m \u001b[0m_prun_fn\u001b[0m\u001b[0;34m(\u001b[0m\u001b[0msession\u001b[0m\u001b[0;34m,\u001b[0m \u001b[0mhandle\u001b[0m\u001b[0;34m,\u001b[0m \u001b[0mfeed_dict\u001b[0m\u001b[0;34m,\u001b[0m \u001b[0mfetch_list\u001b[0m\u001b[0;34m)\u001b[0m\u001b[0;34m:\u001b[0m\u001b[0;34m\u001b[0m\u001b[0m\n",
      "\u001b[0;31mKeyboardInterrupt\u001b[0m: "
     ]
    }
   ],
   "source": [
    "weights_file = 'vgg16_clothing_classifier_1.h5'\n",
    "train_datagen = ImageDataGenerator(rescale=1. / 255,\n",
    "                                  shear_range =.2,\n",
    "                                  zoom_range = .2,\n",
    "                                  horizontal_flip = True)\n",
    "val_datagen = ImageDataGenerator(rescale=1. / 255)\n",
    "\n",
    "train_data_dir = 'data/train'\n",
    "validation_data_dir = \"data/validation\"\n",
    "nb_validation_samples = 1000\n",
    "nb_train_samples = 5000\n",
    "epochs = 10\n",
    "batch_size = 16\n",
    "img_width, img_height = 224, 224\n",
    "\n",
    "train_generator = train_datagen.flow_from_directory(\n",
    "                train_data_dir,\n",
    "                target_size=(img_width, img_height),\n",
    "                batch_size=batch_size,\n",
    "                class_mode='categorical',\n",
    "                shuffle=True)\n",
    "\n",
    "val_generator = val_datagen.flow_from_directory(\n",
    "                                validation_data_dir,\n",
    "                                target_size = (img_height, img_width),\n",
    "                                batch_size=batch_size,\n",
    "                                class_mode = \"categorical\")\n",
    "\n",
    "checkpoint = ModelCheckpoint(weights_file, monitor='val_acc', verbose=1, save_best_only=True, save_weights_only=False, mode='auto', period=1)\n",
    "early = EarlyStopping(monitor='val_acc', min_delta=0, patience=10, verbose=1, mode='auto')\n",
    "\n",
    "\n",
    "# Train the model \n",
    "history = model_final.fit_generator(\n",
    "            train_generator,\n",
    "            steps_per_epoch=nb_train_samples//batch_size,\n",
    "            epochs=epochs,\n",
    "            validation_data=val_generator,\n",
    "            validation_steps=nb_validation_samples//batch_size,\n",
    "            verbose=1,\n",
    "            workers=4,\n",
    "            callbacks = [checkpoint, early])"
   ]
  },
  {
   "cell_type": "code",
   "execution_count": 29,
   "metadata": {},
   "outputs": [
    {
     "data": {
      "image/png": "[encoded data removed]",
      "text/plain": [
       "<matplotlib.figure.Figure at 0x7f5b5d122828>"
      ]
     },
     "metadata": {},
     "output_type": "display_data"
    }
   ],
   "source": [
    "plt.plot(history.history['acc'])\n",
    "plt.plot(history.history['val_acc'])\n",
    "plt.title('model accuracy')\n",
    "plt.ylabel('accuracy')\n",
    "plt.xlabel('epoch')\n",
    "plt.legend(['train', 'validation'], loc='upper left')\n",
    "plt.show()"
   ]
  },
  {
   "cell_type": "code",
   "execution_count": null,
   "metadata": {
    "collapsed": true
   },
   "outputs": [],
   "source": [
    "model.save_weights(weights_file)"
   ]
  },
  {
   "cell_type": "markdown",
   "metadata": {
    "collapsed": true
   },
   "source": [
    "### Activation = Relu, no dropout, 256 per layer, 2 layers\n",
    "- Epoch 1/5\n",
    "311/312 [============================>.] - ETA: 0s - loss: 1.7618 - acc: 0.4528\n",
    "Epoch 00000: val_acc improved from -inf to 0.53327, saving model to vgg16_1.h5\n",
    "312/312 [==============================] - 196s - loss: 1.7600 - acc: 0.4533 - val_loss: 1.5181 - val_acc: 0.5333\n",
    "- Epoch 2/5\n",
    "311/312 [============================>.] - ETA: 0s - loss: 1.2145 - acc: 0.6290\n",
    "Epoch 00001: val_acc improved from 0.53327 to 0.59350, saving model to vgg16_1.h5\n",
    "312/312 [==============================] - 195s - loss: 1.2146 - acc: 0.6290 - val_loss: 1.2554 - val_acc: 0.5935\n",
    "- Epoch 3/5\n",
    "311/312 [============================>.] - ETA: 0s - loss: 1.0157 - acc: 0.6752\n",
    "Epoch 00002: val_acc improved from 0.59350 to 0.60976, saving model to vgg16_1.h5\n",
    "312/312 [==============================] - 195s - loss: 1.0155 - acc: 0.6747 - val_loss: 1.1297 - val_acc: 0.6098\n",
    "- Epoch 4/5\n",
    "311/312 [============================>.] - ETA: 0s - loss: 0.8905 - acc: 0.7176\n",
    "Epoch 00003: val_acc improved from 0.60976 to 0.63008, saving model to vgg16_1.h5\n",
    "312/312 [==============================] - 195s - loss: 0.8908 - acc: 0.7175 - val_loss: 1.0924 - val_acc: 0.6301\n",
    "- Epoch 5/5\n",
    "311/312 [============================>.] - ETA: 0s - loss: 0.8147 - acc: 0.7381\n",
    "Epoch 00004: val_acc improved from 0.63008 to 0.67988, saving model to vgg16_1.h5\n",
    "312/312 [==============================] - 195s - loss: 0.8159 - acc: 0.7376 - val_loss: 0.9710 - val_acc: 0.6799"
   ]
  },
  {
   "cell_type": "markdown",
   "metadata": {},
   "source": [
    "### Activation = Relu, dropout = 0.2 , 256 per layer, 2 layers\n",
    "- Epoch 1/5\n",
    "311/312 [============================>.] - ETA: 0s - loss: 1.8920 - acc: 0.3559 Epoch 00000: val_acc improved from -inf to 0.50000, saving model to vgg16_1.h5\n",
    "312/312 [==============================] - 196s - loss: 1.8911 - acc: 0.3560 - val_loss: 1.5996 - val_acc: 0.5000\n",
    "- Epoch 2/5\n",
    "311/312 [============================>.] - ETA: 0s - loss: 1.4099 - acc: 0.5324\n",
    "Epoch 00001: val_acc improved from 0.50000 to 0.57114, saving model to vgg16_1.h5\n",
    "312/312 [==============================] - 195s - loss: 1.4097 - acc: 0.5327 - val_loss: 1.3624 - val_acc: 0.5711\n",
    "- Epoch 3/5\n",
    "311/312 [============================>.] - ETA: 0s - loss: 1.1902 - acc: 0.6154\n",
    "Epoch 00002: val_acc improved from 0.57114 to 0.60976, saving model to vgg16_1.h5\n",
    "312/312 [==============================] - 195s - loss: 1.1899 - acc: 0.6154 - val_loss: 1.1734 - val_acc: 0.6098\n",
    "- Epoch 4/5\n",
    "311/312 [============================>.] - ETA: 0s - loss: 1.0636 - acc: 0.6555\n",
    "Epoch 00003: val_acc improved from 0.60976 to 0.61890, saving model to vgg16_1.h5\n",
    "312/312 [==============================] - 195s - loss: 1.0633 - acc: 0.6557 - val_loss: 1.1114 - val_acc: 0.6189\n",
    "- Epoch 5/5\n",
    "311/312 [============================>.] - ETA: 0s - loss: 0.9644 - acc: 0.6855\n",
    "Epoch 00004: val_acc improved from 0.61890 to 0.64837, saving model to vgg16_1.h5\n",
    "312/312 [==============================] - 195s - loss: 0.9647 - acc: 0.6855 - val_loss: 1.0660 - val_acc: 0.6484\n"
   ]
  },
  {
   "cell_type": "markdown",
   "metadata": {},
   "source": [
    "### Activation = Relu, dropout = 0.2 , 4096 per layer, 2 layers, 10 epochs\n",
    "- Epoch 1/10\n",
    "311/312 [============================>.] - ETA: 0s - loss: 1.6946 - acc: 0.4343Epoch 00000: val_acc improved from -inf to 0.57560, saving model to vgg16_clothing_classifier_0.h5\n",
    "312/312 [==============================] - 229s - loss: 1.6939 - acc: 0.4351 - val_loss: 1.4136 - val_acc: 0.5756\n",
    "- Epoch 2/10\n",
    "311/312 [============================>.] - ETA: 0s - loss: 1.1629 - acc: 0.6308Epoch 00001: val_acc improved from 0.57560 to 0.59553, saving model to vgg16_clothing_classifier_0.h5\n",
    "312/312 [==============================] - 234s - loss: 1.1622 - acc: 0.6300 - val_loss: 1.1944 - val_acc: 0.5955\n",
    "- Epoch 3/10\n",
    "311/312 [============================>.] - ETA: 0s - loss: 0.9827 - acc: 0.6851Epoch 00002: val_acc improved from 0.59553 to 0.60569, saving model to vgg16_clothing_classifier_0.h5\n",
    "312/312 [==============================] - 235s - loss: 0.9821 - acc: 0.6853 - val_loss: 1.1276 - val_acc: 0.6057\n",
    "- Epoch 4/10\n",
    "311/312 [============================>.] - ETA: 0s - loss: 0.8713 - acc: 0.7221Epoch 00003: val_acc improved from 0.60569 to 0.65142, saving model to vgg16_clothing_classifier_0.h5\n",
    "312/312 [==============================] - 235s - loss: 0.8709 - acc: 0.7226 - val_loss: 0.9978 - val_acc: 0.6514\n",
    "- Epoch 5/10\n",
    "311/312 [============================>.] - ETA: 0s - loss: 0.7974 - acc: 0.7428Epoch 00004: val_acc improved from 0.65142 to 0.65549, saving model to vgg16_clothing_classifier_0.h5\n",
    "312/312 [==============================] - 235s - loss: 0.7966 - acc: 0.7432 - val_loss: 1.0205 - val_acc: 0.6555\n",
    "- Epoch 6/10\n",
    "311/312 [============================>.] - ETA: 0s - loss: 0.7460 - acc: 0.7556Epoch 00005: val_acc improved from 0.65549 to 0.66463, saving model to vgg16_clothing_classifier_0.h5\n",
    "312/312 [==============================] - 235s - loss: 0.7471 - acc: 0.7556 - val_loss: 0.9355 - val_acc: 0.6646\n",
    "- Epoch 7/10\n",
    "311/312 [============================>.] - ETA: 0s - loss: 0.6910 - acc: 0.7737Epoch 00006: val_acc improved from 0.66463 to 0.67276, saving model to vgg16_clothing_classifier_0.h5\n",
    "312/312 [==============================] - 235s - loss: 0.6905 - acc: 0.7740 - val_loss: 0.9172 - val_acc: 0.6728\n",
    "- Epoch 8/10\n",
    "311/312 [============================>.] - ETA: 0s - loss: 0.6558 - acc: 0.7902Epoch 00007: val_acc did not improve\n",
    "312/312 [==============================] - 226s - loss: 0.6557 - acc: 0.7903 - val_loss: 0.9853 - val_acc: 0.6606\n",
    "- Epoch 9/10\n",
    "311/312 [============================>.] - ETA: 0s - loss: 0.6148 - acc: 0.8069Epoch 00008: val_acc improved from 0.67276 to 0.67785, saving model to vgg16_clothing_classifier_0.h5\n",
    "312/312 [==============================] - 234s - loss: 0.6137 - acc: 0.8073 - val_loss: 0.8573 - val_acc: 0.6778\n",
    "- Epoch 10/10\n",
    "311/312 [============================>.] - ETA: 0s - loss: 0.5847 - acc: 0.8143Epoch 00009: val_acc did not improve\n",
    "312/312 [==============================] - 226s - loss: 0.5844 - acc: 0.8145 - val_loss: 0.9304 - val_acc: 0.6748"
   ]
  },
  {
   "cell_type": "markdown",
   "metadata": {},
   "source": [
    "### Activation = None, dropout = 0.2 , 4096 per layer, 2 layers, 10 epochs\n",
    "Found 1000 images belonging to 10 classes.\n",
    "- Epoch 1/10\n",
    "311/312 [============================>.] - ETA: 0s - loss: 1.5095 - acc: 0.5028Epoch 00000: val_acc improved from -inf to 0.56048, saving model to vgg16_clothing_classifier_0.h5\n",
    "312/312 [==============================] - 245s - loss: 1.5080 - acc: 0.5032 - val_loss: 1.2566 - val_acc: 0.5605\n",
    "- Epoch 2/10\n",
    "311/312 [============================>.] - ETA: 0s - loss: 0.9448 - acc: 0.6819Epoch 00001: val_acc improved from 0.56048 to 0.63008, saving model to vgg16_clothing_classifier_0.h5\n",
    "312/312 [==============================] - 234s - loss: 0.9436 - acc: 0.6825 - val_loss: 1.0815 - val_acc: 0.6301\n",
    "- Epoch 3/10\n",
    "311/312 [============================>.] - ETA: 0s - loss: 0.7636 - acc: 0.7434Epoch 00002: val_acc improved from 0.63008 to 0.64939, saving model to vgg16_clothing_classifier_0.h5\n",
    "312/312 [==============================] - 234s - loss: 0.7633 - acc: 0.7432 - val_loss: 0.9501 - val_acc: 0.6494\n",
    "- Epoch 4/10\n",
    "311/312 [============================>.] - ETA: 0s - loss: 0.6875 - acc: 0.7715Epoch 00003: val_acc improved from 0.64939 to 0.66870, saving model to vgg16_clothing_classifier_0.h5\n",
    "312/312 [==============================] - 234s - loss: 0.6888 - acc: 0.7708 - val_loss: 0.9157 - val_acc: 0.6687\n",
    "- Epoch 5/10\n",
    "311/312 [============================>.] - ETA: 0s - loss: 0.5902 - acc: 0.8016Epoch 00004: val_acc did not improve\n",
    "312/312 [==============================] - 226s - loss: 0.5889 - acc: 0.8023 - val_loss: 1.0242 - val_acc: 0.6524\n",
    "- Epoch 6/10\n",
    "311/312 [============================>.] - ETA: 0s - loss: 0.5565 - acc: 0.8079Epoch 00005: val_acc improved from 0.66870 to 0.71037, saving model to vgg16_clothing_classifier_0.h5\n",
    "312/312 [==============================] - 234s - loss: 0.5558 - acc: 0.8081 - val_loss: 0.8513 - val_acc: 0.7104\n",
    "- Epoch 7/10\n",
    "311/312 [============================>.] - ETA: 0s - loss: 0.5050 - acc: 0.8338Epoch 00006: val_acc did not improve\n",
    "312/312 [==============================] - 226s - loss: 0.5053 - acc: 0.8339 - val_loss: 0.9394 - val_acc: 0.6646\n",
    "- Epoch 8/10\n",
    "311/312 [============================>.] - ETA: 0s - loss: 0.4767 - acc: 0.8418Epoch 00007: val_acc improved from 0.71037 to 0.71138, saving model to vgg16_clothing_classifier_0.h5\n",
    "312/312 [==============================] - 234s - loss: 0.4769 - acc: 0.8419 - val_loss: 0.8515 - val_acc: 0.7114\n",
    "- Epoch 9/10\n",
    "311/312 [============================>.] - ETA: 0s - loss: 0.4295 - acc: 0.8579Epoch 00008: val_acc did not improve\n",
    "312/312 [==============================] - 226s - loss: 0.4289 - acc: 0.8584 - val_loss: 0.9653 - val_acc: 0.6514\n",
    "- Epoch 10/10\n",
    "311/312 [============================>.] - ETA: 0s - loss: 0.3952 - acc: 0.8740Epoch 00009: val_acc did not improve\n",
    "312/312 [==============================] - 226s - loss: 0.3949 - acc: 0.8738 - val_loss: 0.8268 - val_acc: 0.7063\n"
   ]
  },
  {
   "cell_type": "code",
   "execution_count": null,
   "metadata": {
    "collapsed": true
   },
   "outputs": [],
   "source": []
  }
 ],
 "metadata": {
  "kernelspec": {
   "display_name": "Python 3",
   "language": "python",
   "name": "python3"
  },
  "language_info": {
   "codemirror_mode": {
    "name": "ipython",
    "version": 3
   },
   "file_extension": ".py",
   "mimetype": "text/x-python",
   "name": "python",
   "nbconvert_exporter": "python",
   "pygments_lexer": "ipython3",
   "version": "3.6.1"
  }
 },
 "nbformat": 4,
 "nbformat_minor": 2
}
